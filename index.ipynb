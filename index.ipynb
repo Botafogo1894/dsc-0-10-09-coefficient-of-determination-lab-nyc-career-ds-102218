{
 "cells": [
  {
   "cell_type": "markdown",
   "metadata": {},
   "source": [
    "# Coefficient of Determination - Lab\n",
    "\n",
    "## Introduction\n",
    "In the previous lesson we looked at the coefficient of determination, what it means and how it is calculated. In this lesson, we shall use the R-squared formula to calculate it in python and numpy. \n",
    "\n",
    "## Objectives\n",
    "\n",
    "You will be able to:\n",
    "\n",
    "* Mathematically calculate R squared using a toy dataset\n",
    "\n",
    "* Calculate the coefficient of determination (R-squared) for a given regression line\n",
    "\n",
    "* Interpret the value of R-squared\n"
   ]
  },
  {
   "cell_type": "markdown",
   "metadata": {},
   "source": [
    "## Let's get started\n",
    "\n",
    "Once a regression model is created, we need to decide how \"accurate\" the regression line is to some degree. \n"
   ]
  },
  {
   "cell_type": "markdown",
   "metadata": {},
   "source": [
    "Here is the the equation for R-squared again: \n",
    "\n",
    "![](rs1.png)"
   ]
  },
  {
   "cell_type": "markdown",
   "metadata": {},
   "source": [
    "# potential new image\n",
    "![](r2.png)"
   ]
  },
  {
   "cell_type": "markdown",
   "metadata": {},
   "source": [
    "The equation is essentially 1 minus the division of the **squared error of the regression (predicted) line**, by the **squared error of the mean y line**\n",
    ". \n",
    ">The mean y line is quite literally the mean of all of the y values from the dataset. Thus, we do the squared error of the average y, and of the regression line. \n",
    "\n",
    "The objective here is to learn how much of the error is actually just simply a result in variation in the data features, as opposed to being a result of the regression line being a poor fit."
   ]
  },
  {
   "cell_type": "markdown",
   "metadata": {},
   "source": [
    "## Programming R-squared\n",
    "\n",
    "Let's calculate R-squared in Python. The first step would be to calculate the squared error. Remember squared error is the sum of quares of difference between a given line and the ground truth (actual data points).\n",
    "\n",
    "Create a function `sq_err()` that takes in y points for two lines as arrays, calculates the difference corresponding elements of these arrays, squares, and sums all the differences. The function should return the SSE value as we saw earlier."
   ]
  },
  {
   "cell_type": "code",
   "execution_count": 15,
   "metadata": {},
   "outputs": [
    {
     "data": {
      "text/plain": [
       "0.016130089900092563"
      ]
     },
     "execution_count": 15,
     "metadata": {},
     "output_type": "execute_result"
    },
    {
     "data": {
      "image/png": "[encoded data removed]",
      "text/plain": [
       "<Figure size 432x288 with 1 Axes>"
      ]
     },
     "metadata": {
      "needs_background": "light"
     },
     "output_type": "display_data"
    }
   ],
   "source": [
    "# Calculate sum of squared errors between regression and mean line \n",
    "import numpy as np\n",
    "import scipy.stats as stats\n",
    "import matplotlib.pyplot as plt\n",
    "%matplotlib inline\n",
    "\n",
    "# def sq_err(ys_a, ys_b):\n",
    "#     \"\"\"\n",
    "#     input\n",
    "#     y_a : regression line\n",
    "#     y_b : mean line\n",
    "    \n",
    "#     return\n",
    "#     squared error between regression and true line (ss_tot)\n",
    "#     \"\"\"\n",
    "#     pass\n",
    "\n",
    "# Check the output with some toy data\n",
    "Y_a = np.array([1,3,5,7])\n",
    "Y_b = np.array([1,4,5,8])\n",
    "\n",
    "# sq_err(Y_a, Y_b)\n",
    "slope, b, R, p_value = stats.linregress(Y_a, Y_b)[0], stats.linregress(Y_a, Y_b)[1], stats.linregress(Y_a, Y_b)[2], stats.linregress(Y_a, Y_b)[3]\n",
    "predicted_y = [x*slope + b for x in Y_a]\n",
    "plt.scatter(Y_a, Y_b, label = \"scatter original\", color = \"blue\")\n",
    "plt.plot(Y_a, predicted_y, label = \"regression line\", color = \"red\")\n",
    "plt.axhline(Y_b.mean(), label = \"Basic y_mean model\", color = \"green\")\n",
    "plt.legend()\n",
    "\n",
    "p_value\n",
    "# 2"
   ]
  },
  {
   "cell_type": "markdown",
   "metadata": {},
   "source": [
    "Squared error, as calculated above is only a part of the coefficient of determination, Let's now build a function that would use `sq_err()` function above to calculate the value of r-squared by first calculating SSE and SST (SSres and SStot above) and then plugging these values into the R-squared formula. Perform following tasks\n",
    "* Calculate the mean of ys_real\n",
    "* Calculate SSE using `sq_err()`\n",
    "* Calculate SST using `sq_err()`\n",
    "* Calculate R-squared from above values using given formula. \n"
   ]
  },
  {
   "cell_type": "code",
   "execution_count": 2,
   "metadata": {},
   "outputs": [],
   "source": [
    "# Calculate Y_mean , squared error for regression and mean line , and calculate r-squared\n",
    "\n",
    "def r_squared(ys_real, ys_predicted):\n",
    "    \"\"\"\n",
    "    input\n",
    "    ys_real: real values\n",
    "    ys_predicted: regression values\n",
    "    \n",
    "    return\n",
    "    r_squared value\n",
    "    \"\"\"\n",
    "    pass\n",
    "\n",
    "# Check the output with some toy data\n",
    "Y_real = np.array([1,3,5,7])\n",
    "Y_pred = np.array([1,5,5,10])\n",
    "\n",
    "r_squared(Y_real, Y_pred)\n",
    "\n",
    "# 0.35"
   ]
  },
  {
   "cell_type": "markdown",
   "metadata": {},
   "source": [
    "A very low value , but it was not from some real data. So now we have quite a few functions for calculating slope, intercept, bestfit line, plotting and calculating R-squared. In the next lab we'll put these all together to run a complete regression experiment."
   ]
  },
  {
   "cell_type": "markdown",
   "metadata": {},
   "source": [
    "## Summary\n",
    "In this lesson we saw how to calculate the R-squared value in python and numpy. Following lab will require you put all the functions from last few labs together to create a complete DIY regression experiment. "
   ]
  }
 ],
 "metadata": {
  "kernelspec": {
   "display_name": "Python 3",
   "language": "python",
   "name": "python3"
  },
  "language_info": {
   "codemirror_mode": {
    "name": "ipython",
    "version": 3
   },
   "file_extension": ".py",
   "mimetype": "text/x-python",
   "name": "python",
   "nbconvert_exporter": "python",
   "pygments_lexer": "ipython3",
   "version": "3.6.6"
  }
 },
 "nbformat": 4,
 "nbformat_minor": 2
}
